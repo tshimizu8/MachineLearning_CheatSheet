{
  "nbformat": 4,
  "nbformat_minor": 0,
  "metadata": {
    "kernelspec": {
      "display_name": "Python 3",
      "language": "python",
      "name": "python3"
    },
    "language_info": {
      "codemirror_mode": {
        "name": "ipython",
        "version": 3
      },
      "file_extension": ".py",
      "mimetype": "text/x-python",
      "name": "python",
      "nbconvert_exporter": "python",
      "pygments_lexer": "ipython3",
      "version": "3.7.4"
    },
    "colab": {
      "name": "0010_Vector_Matrix_List.ipynb",
      "provenance": [],
      "collapsed_sections": [],
      "include_colab_link": true
    }
  },
  "cells": [
    {
      "cell_type": "markdown",
      "metadata": {
        "id": "view-in-github",
        "colab_type": "text"
      },
      "source": [
        "<a href=\"https://colab.research.google.com/github/tshimizu8/MachineLearning_CheatSheet/blob/master/0010_Vector_Matrix_List.ipynb\" target=\"_parent\"><img src=\"https://colab.research.google.com/assets/colab-badge.svg\" alt=\"Open In Colab\"/></a>"
      ]
    },
    {
      "cell_type": "markdown",
      "metadata": {
        "id": "00IfYIjsQ3pB",
        "colab_type": "text"
      },
      "source": [
        "# 機械学習チートシート（ベクトル、行列、Python）"
      ]
    },
    {
      "cell_type": "markdown",
      "metadata": {
        "id": "SjyZ9bMgQ3pH",
        "colab_type": "text"
      },
      "source": [
        "Python による **機械学習** に向けて、プログラミングメモを作成しています。  　　"
      ]
    },
    {
      "cell_type": "markdown",
      "metadata": {
        "id": "KIDoVx6zQ3pI",
        "colab_type": "text"
      },
      "source": [
        "### 環境、ライブラリ"
      ]
    },
    {
      "cell_type": "code",
      "metadata": {
        "id": "BwSttUzuQ3pJ",
        "colab_type": "code",
        "outputId": "cb025014-deb4-405d-e162-49b02b9745ce",
        "colab": {
          "base_uri": "https://localhost:8080/",
          "height": 62
        }
      },
      "source": [
        "import numpy as np\n",
        "import matplotlib.pyplot as plt\n",
        "np.random.seed(seed=0) # 乱数の種を指定\n",
        "!python -V"
      ],
      "execution_count": 0,
      "outputs": [
        {
          "output_type": "stream",
          "text": [
            "Python 3.6.9\n"
          ],
          "name": "stdout"
        }
      ]
    },
    {
      "cell_type": "markdown",
      "metadata": {
        "id": "WYJmhQ6TQ3pX",
        "colab_type": "text"
      },
      "source": [
        "### データの作成"
      ]
    },
    {
      "cell_type": "markdown",
      "metadata": {
        "id": "yoIJGuNpQ3pe",
        "colab_type": "text"
      },
      "source": [
        "###### ベクトル　vector"
      ]
    },
    {
      "cell_type": "code",
      "metadata": {
        "id": "gVPmuMwfQ3pg",
        "colab_type": "code",
        "outputId": "53f13f13-315b-4430-f2b5-d81c96950b67",
        "colab": {
          "base_uri": "https://localhost:8080/",
          "height": 87
        }
      },
      "source": [
        "l= [0, 1] # リスト   list.shapeは無い\n",
        "v = np.array(l) # ベクトル化 vector、形状(2) np.array()\n",
        "v12 = v.reshape((1, -1)) # 行ベクトル化、形状(1,2) Row vector　\n",
        "v21 = v.reshape((-1, 1)) # 列ベクトル化、形状(2,1) Column vector　\n",
        "print((list, v, v12, v21, v.shape, v12.shape, v21.shape))\n",
        "print(v.tolist(), v12.tolist(), v21.tolist()) # リスト化 tolist()\n",
        "vf = v.flatten() # flatten() -> ベクトル化\n",
        "v12f = v12.flatten()\n",
        "v21f = v21.flatten()\n",
        "print([vf ,v12f ,v21f ,vf.shape, v12f.shape, v21f.shape])"
      ],
      "execution_count": 0,
      "outputs": [
        {
          "output_type": "stream",
          "text": [
            "(<class 'list'>, array([0, 1]), array([[0, 1]]), array([[0],\n",
            "       [1]]), (2,), (1, 2), (2, 1))\n",
            "[0, 1] [[0, 1]] [[0], [1]]\n",
            "[array([0, 1]), array([0, 1]), array([0, 1]), (2,), (2,), (2,)]\n"
          ],
          "name": "stdout"
        }
      ]
    },
    {
      "cell_type": "code",
      "metadata": {
        "id": "7AG7W6u0Q3pp",
        "colab_type": "code",
        "outputId": "5235174e-72d0-4aaf-f1e4-eaa3dbebf7f0",
        "colab": {
          "base_uri": "https://localhost:8080/",
          "height": 34
        }
      },
      "source": [
        "a = np.arange(2) # 要素の取り出し\n",
        "b = np.arange(2).reshape((1, 2)) # 行ベクトル Row vector\n",
        "c = np.arange(2).reshape((2, 1)) # 列ベクトル Column vector \n",
        "(a[0] ,b[0] ,c[0], a[1], b[0,1], c[1,0], a.shape, b.shape, c.shape)"
      ],
      "execution_count": 0,
      "outputs": [
        {
          "output_type": "execute_result",
          "data": {
            "text/plain": [
              "(0, array([0, 1]), array([0]), 1, 1, 1, (2,), (1, 2), (2, 1))"
            ]
          },
          "metadata": {
            "tags": []
          },
          "execution_count": 3
        }
      ]
    },
    {
      "cell_type": "code",
      "metadata": {
        "id": "7x_DBXv-Q3pt",
        "colab_type": "code",
        "outputId": "6744715a-ff4b-4aa3-981f-269bfc476d4a",
        "colab": {
          "base_uri": "https://localhost:8080/",
          "height": 122
        }
      },
      "source": [
        "a = np.array([])   # 空 行ベクトル  どちらも　array([])\n",
        "b = np.array([[]]) # 空 列ベクトル\n",
        "(a, a.shape, a.tolist(), b, b.shape, b.tolist())"
      ],
      "execution_count": 0,
      "outputs": [
        {
          "output_type": "execute_result",
          "data": {
            "text/plain": [
              "(array([], dtype=float64),\n",
              " (0,),\n",
              " [],\n",
              " array([], shape=(1, 0), dtype=float64),\n",
              " (1, 0),\n",
              " [[]])"
            ]
          },
          "metadata": {
            "tags": []
          },
          "execution_count": 4
        }
      ]
    },
    {
      "cell_type": "code",
      "metadata": {
        "id": "rfI30X2LQ3p0",
        "colab_type": "code",
        "outputId": "d6b3d983-4626-4ea8-fcd6-369a79f1a62d",
        "colab": {
          "base_uri": "https://localhost:8080/",
          "height": 52
        }
      },
      "source": [
        "a = np.array([0] * 2)   # ゼロ　行ベクトル\n",
        "b = np.array([[0]] * 2) # ゼロ　列ベクトル\n",
        "(a, a.shape, b, b.shape)"
      ],
      "execution_count": 0,
      "outputs": [
        {
          "output_type": "execute_result",
          "data": {
            "text/plain": [
              "(array([0, 0]), (2,), array([[0],\n",
              "        [0]]), (2, 1))"
            ]
          },
          "metadata": {
            "tags": []
          },
          "execution_count": 5
        }
      ]
    },
    {
      "cell_type": "code",
      "metadata": {
        "id": "H6Wu9gCpQ3p2",
        "colab_type": "code",
        "outputId": "066b406c-b80b-4469-9fb0-283740dfb8c8",
        "colab": {
          "base_uri": "https://localhost:8080/",
          "height": 105
        }
      },
      "source": [
        "a = np.array([0, 1] * 2) # 繰り返し\n",
        "b = np.array([[0, 1]] * 2) # 行ベクトル\n",
        "c = np.array([[0],[1]] * 2) # 列ベクトル\n",
        "(a, b, c, a.shape, b.shape, c.shape)"
      ],
      "execution_count": 0,
      "outputs": [
        {
          "output_type": "execute_result",
          "data": {
            "text/plain": [
              "(array([0, 1, 0, 1]), array([[0, 1],\n",
              "        [0, 1]]), array([[0],\n",
              "        [1],\n",
              "        [0],\n",
              "        [1]]), (4,), (2, 2), (4, 1))"
            ]
          },
          "metadata": {
            "tags": []
          },
          "execution_count": 6
        }
      ]
    },
    {
      "cell_type": "code",
      "metadata": {
        "id": "zdXcS1sSQ3p_",
        "colab_type": "code",
        "outputId": "6b3ce1ac-c908-4062-957a-e6a5f9ca287f",
        "colab": {
          "base_uri": "https://localhost:8080/",
          "height": 34
        }
      },
      "source": [
        "np.concatenate([np.array([0] * 3) ,np.array([1] * 3)]) # ベクトルの結合"
      ],
      "execution_count": 0,
      "outputs": [
        {
          "output_type": "execute_result",
          "data": {
            "text/plain": [
              "array([0, 0, 0, 1, 1, 1])"
            ]
          },
          "metadata": {
            "tags": []
          },
          "execution_count": 7
        }
      ]
    },
    {
      "cell_type": "code",
      "metadata": {
        "id": "E5JAAuyPQ3qD",
        "colab_type": "code",
        "outputId": "d396c6e5-9276-47c4-da24-d23a3a662748",
        "colab": {
          "base_uri": "https://localhost:8080/",
          "height": 52
        }
      },
      "source": [
        "a = np.arange(2).reshape((1, -1)) # 形状の推測 １つの次元だけ －１ を指定して、推測指定ができる\n",
        "b = np.arange(2).reshape((-1, 1))\n",
        "(a,b)"
      ],
      "execution_count": 0,
      "outputs": [
        {
          "output_type": "execute_result",
          "data": {
            "text/plain": [
              "(array([[0, 1]]), array([[0],\n",
              "        [1]]))"
            ]
          },
          "metadata": {
            "tags": []
          },
          "execution_count": 8
        }
      ]
    },
    {
      "cell_type": "code",
      "metadata": {
        "id": "XZtZM0KYQ3qE",
        "colab_type": "code",
        "outputId": "4940204a-3f7e-4f03-ae60-35852a38aea6",
        "colab": {
          "base_uri": "https://localhost:8080/",
          "height": 34
        }
      },
      "source": [
        "a = np.array([0,1]) # arrayのネスト\n",
        "b = np.array(a) # 何も起きない\n",
        "c = np.array([a])\n",
        "(a, b, c, a.shape, b.shape, c.shape)"
      ],
      "execution_count": 0,
      "outputs": [
        {
          "output_type": "execute_result",
          "data": {
            "text/plain": [
              "(array([0, 1]), array([0, 1]), array([[0, 1]]), (2,), (2,), (1, 2))"
            ]
          },
          "metadata": {
            "tags": []
          },
          "execution_count": 9
        }
      ]
    },
    {
      "cell_type": "code",
      "metadata": {
        "id": "9AvAgRlxQ3qR",
        "colab_type": "code",
        "outputId": "1be36deb-76c5-495d-d3b8-4c6e3544e390",
        "colab": {
          "base_uri": "https://localhost:8080/",
          "height": 34
        }
      },
      "source": [
        "np.random.seed(seed=32) # 乱数　Seed有り\n",
        "(np.random.randint(0, 2, 5), np.random.randint(0,10,10)) "
      ],
      "execution_count": 0,
      "outputs": [
        {
          "output_type": "execute_result",
          "data": {
            "text/plain": [
              "(array([1, 1, 1, 0, 0]), array([8, 3, 7, 9, 3, 5, 9, 4, 1, 3]))"
            ]
          },
          "metadata": {
            "tags": []
          },
          "execution_count": 10
        }
      ]
    },
    {
      "cell_type": "code",
      "metadata": {
        "id": "kTG67XxKQ3qY",
        "colab_type": "code",
        "outputId": "1b992c11-3774-4694-a355-0c19988badeb",
        "colab": {
          "base_uri": "https://localhost:8080/",
          "height": 34
        }
      },
      "source": [
        "np.random.seed(seed=None) # 乱数　Seed無し\n",
        "(np.random.randint(0, 2, 5), np.random.randint(0,10,10))"
      ],
      "execution_count": 0,
      "outputs": [
        {
          "output_type": "execute_result",
          "data": {
            "text/plain": [
              "(array([0, 0, 1, 1, 0]), array([6, 3, 7, 6, 7, 0, 7, 3, 5, 2]))"
            ]
          },
          "metadata": {
            "tags": []
          },
          "execution_count": 11
        }
      ]
    },
    {
      "cell_type": "code",
      "metadata": {
        "id": "-BGSUWWdQ3qa",
        "colab_type": "code",
        "outputId": "f0657a8f-251d-43f0-be09-b401afda567f",
        "colab": {
          "base_uri": "https://localhost:8080/",
          "height": 34
        }
      },
      "source": [
        "np.sin(np.linspace(0, np.pi, 4)) # sinデータ"
      ],
      "execution_count": 0,
      "outputs": [
        {
          "output_type": "execute_result",
          "data": {
            "text/plain": [
              "array([0.00000000e+00, 8.66025404e-01, 8.66025404e-01, 1.22464680e-16])"
            ]
          },
          "metadata": {
            "tags": []
          },
          "execution_count": 12
        }
      ]
    },
    {
      "cell_type": "code",
      "metadata": {
        "id": "exKDh6HRQ3qb",
        "colab_type": "code",
        "outputId": "a45147ba-4656-4d3b-ce4d-b5a69dc54149",
        "colab": {
          "base_uri": "https://localhost:8080/",
          "height": 34
        }
      },
      "source": [
        "a = np.arange(5) # clip()　上下値制限\n",
        "np.clip(a, 1, 3)"
      ],
      "execution_count": 0,
      "outputs": [
        {
          "output_type": "execute_result",
          "data": {
            "text/plain": [
              "array([1, 1, 2, 3, 3])"
            ]
          },
          "metadata": {
            "tags": []
          },
          "execution_count": 13
        }
      ]
    },
    {
      "cell_type": "code",
      "metadata": {
        "id": "WCBWQaxYQ3qd",
        "colab_type": "code",
        "outputId": "94ce4ed5-7b85-40fe-dd36-6a7e4ed61e23",
        "colab": {
          "base_uri": "https://localhost:8080/",
          "height": 34
        }
      },
      "source": [
        "a = np.array([1.2, 2.6]) # 型変換　 float -> int\n",
        "b = np.round(a).astype(np.int32)\n",
        "(b, a.dtype, b.dtype)"
      ],
      "execution_count": 0,
      "outputs": [
        {
          "output_type": "execute_result",
          "data": {
            "text/plain": [
              "(array([1, 3], dtype=int32), dtype('float64'), dtype('int32'))"
            ]
          },
          "metadata": {
            "tags": []
          },
          "execution_count": 14
        }
      ]
    },
    {
      "cell_type": "code",
      "metadata": {
        "scrolled": true,
        "id": "uzmm2vyZQ3qg",
        "colab_type": "code",
        "outputId": "f7ab4b03-c0f1-497a-e25d-713f54026964",
        "colab": {
          "base_uri": "https://localhost:8080/",
          "height": 87
        }
      },
      "source": [
        "a = np.arange(3).reshape(1,-1) # 行ベクトルの１つ取り出しは、リスト[]でなくarray[]になる。　\n",
        "b = a[0]\n",
        "print((a, b, a.shape, b.shape))\n",
        "a = np.arange(3).reshape(-1,1) # 列ベクトルの１つ取り出しは、リスト[]でなくarray[]になる。　\n",
        "b = a[0]\n",
        "print((a, b, a.shape, b.shape))"
      ],
      "execution_count": 0,
      "outputs": [
        {
          "output_type": "stream",
          "text": [
            "(array([[0, 1, 2]]), array([0, 1, 2]), (1, 3), (3,))\n",
            "(array([[0],\n",
            "       [1],\n",
            "       [2]]), array([0]), (3, 1), (1,))\n"
          ],
          "name": "stdout"
        }
      ]
    },
    {
      "cell_type": "code",
      "metadata": {
        "id": "yVO2OpBuQ3qj",
        "colab_type": "code",
        "outputId": "a0f16676-7572-4823-9d0b-89a41270580a",
        "colab": {
          "base_uri": "https://localhost:8080/",
          "height": 34
        }
      },
      "source": [
        "a = np.array([[1]]) # flatten 動作確認  外側の[]が１つ削除されるのみ\n",
        "b = a.flatten()\n",
        "(a, a.shape, b, b.shape)"
      ],
      "execution_count": 0,
      "outputs": [
        {
          "output_type": "execute_result",
          "data": {
            "text/plain": [
              "(array([[1]]), (1, 1), array([1]), (1,))"
            ]
          },
          "metadata": {
            "tags": []
          },
          "execution_count": 16
        }
      ]
    },
    {
      "cell_type": "code",
      "metadata": {
        "id": "4EP2rfIhQ3qk",
        "colab_type": "code",
        "outputId": "19040154-99ef-44e2-ac1a-a768427a0bda",
        "colab": {
          "base_uri": "https://localhost:8080/",
          "height": 52
        }
      },
      "source": [
        "fn1 = lambda x: 2 * x + 1 # 関数適用 制限有り　積和はOK、論理はNG  \n",
        "fn2 = lambda x: 7 if 0 == x else 77 \n",
        "v = np.arange(2).reshape((2, 1))\n",
        "# fn2(v) ValueError: The truth value of an array with more than one element is ambiguous. Use a.any() or a.all()\n",
        "fn2v = np.array(list(map(fn2,v))) # 動きが不安定、カーネルリセットが必要。\n",
        "(fn1(v),fn2v)"
      ],
      "execution_count": 0,
      "outputs": [
        {
          "output_type": "execute_result",
          "data": {
            "text/plain": [
              "(array([[1],\n",
              "        [3]]), array([ 7, 77]))"
            ]
          },
          "metadata": {
            "tags": []
          },
          "execution_count": 17
        }
      ]
    },
    {
      "cell_type": "markdown",
      "metadata": {
        "id": "cJCymq6KQ3qo",
        "colab_type": "text"
      },
      "source": [
        "###### 行列　matrix"
      ]
    },
    {
      "cell_type": "code",
      "metadata": {
        "id": "RfLx5dokQ3qo",
        "colab_type": "code",
        "outputId": "eef01ff3-758d-4dcf-f1cc-164bc0de9f9e",
        "colab": {
          "base_uri": "https://localhost:8080/",
          "height": 70
        }
      },
      "source": [
        "np.arange(6).reshape((3, 2)) # 配列、matrix"
      ],
      "execution_count": 0,
      "outputs": [
        {
          "output_type": "execute_result",
          "data": {
            "text/plain": [
              "array([[0, 1],\n",
              "       [2, 3],\n",
              "       [4, 5]])"
            ]
          },
          "metadata": {
            "tags": []
          },
          "execution_count": 18
        }
      ]
    },
    {
      "cell_type": "code",
      "metadata": {
        "id": "0VZwlACZQ3qs",
        "colab_type": "code",
        "outputId": "6a22b1bc-4d9a-4863-c2ac-811adee493e9",
        "colab": {
          "base_uri": "https://localhost:8080/",
          "height": 34
        }
      },
      "source": [
        "a = np.arange(4).reshape(2,2) # in 取り出し\n",
        "(a[0], a[1])"
      ],
      "execution_count": 0,
      "outputs": [
        {
          "output_type": "execute_result",
          "data": {
            "text/plain": [
              "(array([0, 1]), array([2, 3]))"
            ]
          },
          "metadata": {
            "tags": []
          },
          "execution_count": 19
        }
      ]
    },
    {
      "cell_type": "code",
      "metadata": {
        "id": "tzZUDMMKQ3qu",
        "colab_type": "code",
        "outputId": "5350a67e-89f1-48e8-b065-c027e31fec64",
        "colab": {
          "base_uri": "https://localhost:8080/",
          "height": 52
        }
      },
      "source": [
        " 2 * np.identity(2) * 3 # 単位行列、identity matrix"
      ],
      "execution_count": 0,
      "outputs": [
        {
          "output_type": "execute_result",
          "data": {
            "text/plain": [
              "array([[6., 0.],\n",
              "       [0., 6.]])"
            ]
          },
          "metadata": {
            "tags": []
          },
          "execution_count": 20
        }
      ]
    },
    {
      "cell_type": "code",
      "metadata": {
        "id": "EXAGrv7jQ3qv",
        "colab_type": "code",
        "outputId": "0bcf2a25-c299-424b-d6cd-aefe28a369ab",
        "colab": {
          "base_uri": "https://localhost:8080/",
          "height": 70
        }
      },
      "source": [
        "x = np.arange(4).reshape((2, 2)) # zero行列 like\n",
        "(np.zeros([2, 3]), np.zeros_like(x))"
      ],
      "execution_count": 0,
      "outputs": [
        {
          "output_type": "execute_result",
          "data": {
            "text/plain": [
              "(array([[0., 0., 0.],\n",
              "        [0., 0., 0.]]), array([[0, 0],\n",
              "        [0, 0]]))"
            ]
          },
          "metadata": {
            "tags": []
          },
          "execution_count": 21
        }
      ]
    },
    {
      "cell_type": "code",
      "metadata": {
        "id": "0GhVruR-Q3qz",
        "colab_type": "code",
        "outputId": "f5a026b8-4e3c-4ec3-9717-5970bb7fac42",
        "colab": {
          "base_uri": "https://localhost:8080/",
          "height": 105
        }
      },
      "source": [
        "a = np.arange(4 * 4).reshape((4, 4)) # 配列の切り出し\n",
        "b = a[1:3,1:3]\n",
        "(a,b)"
      ],
      "execution_count": 0,
      "outputs": [
        {
          "output_type": "execute_result",
          "data": {
            "text/plain": [
              "(array([[ 0,  1,  2,  3],\n",
              "        [ 4,  5,  6,  7],\n",
              "        [ 8,  9, 10, 11],\n",
              "        [12, 13, 14, 15]]), array([[ 5,  6],\n",
              "        [ 9, 10]]))"
            ]
          },
          "metadata": {
            "tags": []
          },
          "execution_count": 22
        }
      ]
    },
    {
      "cell_type": "markdown",
      "metadata": {
        "id": "oU1ac-esQ3q2",
        "colab_type": "text"
      },
      "source": [
        "### ベクトル、行列の四則演算 +-*/（Four arithmetic operations）"
      ]
    },
    {
      "cell_type": "code",
      "metadata": {
        "id": "qiMKpZTCQ3q2",
        "colab_type": "code",
        "outputId": "d0344e23-b790-441d-b1a7-77074bb60660",
        "colab": {
          "base_uri": "https://localhost:8080/",
          "height": 72
        }
      },
      "source": [
        "v = np.arange(4).reshape((2, 2))\n",
        "2 * v * 5 # スカラー積 "
      ],
      "execution_count": 0,
      "outputs": [
        {
          "output_type": "execute_result",
          "data": {
            "text/plain": [
              "array([[ 0, 10],\n",
              "       [20, 30]])"
            ]
          },
          "metadata": {
            "tags": []
          },
          "execution_count": 23
        }
      ]
    },
    {
      "cell_type": "code",
      "metadata": {
        "id": "hzUd9_PTQ3q3",
        "colab_type": "code",
        "outputId": "296edb91-f543-438f-c5a2-83aa1f20cd55",
        "colab": {
          "base_uri": "https://localhost:8080/",
          "height": 54
        }
      },
      "source": [
        "a =np.arange(4) + np.arange(4) # 和\n",
        "b = np.arange(4)\n",
        "b += np.arange(4)\n",
        "(a, b)"
      ],
      "execution_count": 0,
      "outputs": [
        {
          "output_type": "execute_result",
          "data": {
            "text/plain": [
              "(array([0, 2, 4, 6]), array([0, 2, 4, 6]))"
            ]
          },
          "metadata": {
            "tags": []
          },
          "execution_count": 24
        }
      ]
    },
    {
      "cell_type": "code",
      "metadata": {
        "id": "XnonB9_MQ3q3",
        "colab_type": "code",
        "outputId": "b732d121-0779-4937-e4ba-32301e852b0c",
        "colab": {
          "base_uri": "https://localhost:8080/",
          "height": 72
        }
      },
      "source": [
        "v = np.arange(4).reshape((2, 2)) #積　(単なる要素どうしの積)\n",
        "v * v"
      ],
      "execution_count": 0,
      "outputs": [
        {
          "output_type": "execute_result",
          "data": {
            "text/plain": [
              "array([[0, 1],\n",
              "       [4, 9]])"
            ]
          },
          "metadata": {
            "tags": []
          },
          "execution_count": 25
        }
      ]
    },
    {
      "cell_type": "code",
      "metadata": {
        "id": "DlcBsvk2Q3q4",
        "colab_type": "code",
        "outputId": "7970d4ef-e335-417b-e6ad-d951e54b5872",
        "colab": {
          "base_uri": "https://localhost:8080/",
          "height": 90
        }
      },
      "source": [
        "v = np.array([0, 1]) # ブロードキャスト　-> [[0, 1],[0, 1]]\n",
        "m = np.arange(4).reshape((2, 2))\n",
        "(v * m , m * v) # (ベクトル * 行列、 行列 * ベクトル)"
      ],
      "execution_count": 0,
      "outputs": [
        {
          "output_type": "execute_result",
          "data": {
            "text/plain": [
              "(array([[0, 1],\n",
              "        [0, 3]]), array([[0, 1],\n",
              "        [0, 3]]))"
            ]
          },
          "metadata": {
            "tags": []
          },
          "execution_count": 26
        }
      ]
    },
    {
      "cell_type": "markdown",
      "metadata": {
        "id": "bgpuvGqFQ3q7",
        "colab_type": "text"
      },
      "source": [
        "### ベクトル演算（Vector operation）"
      ]
    },
    {
      "cell_type": "code",
      "metadata": {
        "id": "M7e7NE9RQ3q7",
        "colab_type": "code",
        "outputId": "d27819f9-989f-4c66-ea06-e6713230adb8",
        "colab": {
          "base_uri": "https://localhost:8080/",
          "height": 54
        }
      },
      "source": [
        "a = np.array([[1, 2]]) # 内積、inner product\n",
        "(np.inner(a,a), a@a.T)"
      ],
      "execution_count": 0,
      "outputs": [
        {
          "output_type": "execute_result",
          "data": {
            "text/plain": [
              "(array([[5]]), array([[5]]))"
            ]
          },
          "metadata": {
            "tags": []
          },
          "execution_count": 27
        }
      ]
    },
    {
      "cell_type": "code",
      "metadata": {
        "id": "i-Z6MMq9Q3q-",
        "colab_type": "code",
        "outputId": "3c88dc0f-7a1b-4d49-840b-cf3335d10786",
        "colab": {
          "base_uri": "https://localhost:8080/",
          "height": 90
        }
      },
      "source": [
        "a = np.array([[1, 2]]) # 外積、直積、outer product、vector product、direct product、tensor product\n",
        "(np.outer(a,a),  a.T@a)"
      ],
      "execution_count": 0,
      "outputs": [
        {
          "output_type": "execute_result",
          "data": {
            "text/plain": [
              "(array([[1, 2],\n",
              "        [2, 4]]), array([[1, 2],\n",
              "        [2, 4]]))"
            ]
          },
          "metadata": {
            "tags": []
          },
          "execution_count": 28
        }
      ]
    },
    {
      "cell_type": "code",
      "metadata": {
        "id": "ga5_I4FaQ3rA",
        "colab_type": "code",
        "outputId": "c2144596-7e5a-4c1d-c070-b7b998880817",
        "colab": {
          "base_uri": "https://localhost:8080/",
          "height": 54
        }
      },
      "source": [
        "v = np.array([1, 1]) # 長さ、ノルム0,1,2、norm、https://ja.wikipedia.org/wiki/ノルム\n",
        "(np.linalg.norm(v), np.linalg.norm(v, ord=0), np.linalg.norm(v, ord=1), np.linalg.norm(v, ord=2)) "
      ],
      "execution_count": 0,
      "outputs": [
        {
          "output_type": "execute_result",
          "data": {
            "text/plain": [
              "(1.4142135623730951, 2.0, 2.0, 1.4142135623730951)"
            ]
          },
          "metadata": {
            "tags": []
          },
          "execution_count": 29
        }
      ]
    },
    {
      "cell_type": "code",
      "metadata": {
        "id": "a0ABTZ8tQ3rB",
        "colab_type": "code",
        "outputId": "feb440f8-7f98-4dab-ab0d-5b7ee3c1f02e",
        "colab": {
          "base_uri": "https://localhost:8080/",
          "height": 54
        }
      },
      "source": [
        "v1 = np.array([1, 0]) # cos類似度、cos similarity、コサイン距離、https://ja.wikipedia.org/wiki/ベクトルのなす角\n",
        "v2 = v1\n",
        "np.dot(v1, v2) / (np.linalg.norm(v1) * np.linalg.norm(v2)) "
      ],
      "execution_count": 0,
      "outputs": [
        {
          "output_type": "execute_result",
          "data": {
            "text/plain": [
              "1.0"
            ]
          },
          "metadata": {
            "tags": []
          },
          "execution_count": 30
        }
      ]
    },
    {
      "cell_type": "markdown",
      "metadata": {
        "id": "zzWrPtKsQ3rD",
        "colab_type": "text"
      },
      "source": [
        "### 行列演算（Matrix operation）"
      ]
    },
    {
      "cell_type": "code",
      "metadata": {
        "id": "oJMOCeRBQ3rF",
        "colab_type": "code",
        "outputId": "97fa79b8-134f-40ab-d97b-8ba8db633df0",
        "colab": {
          "base_uri": "https://localhost:8080/",
          "height": 90
        }
      },
      "source": [
        "np.arange(6).reshape((2, 3)).T # 転置行列、 transposed matrix"
      ],
      "execution_count": 0,
      "outputs": [
        {
          "output_type": "execute_result",
          "data": {
            "text/plain": [
              "array([[0, 3],\n",
              "       [1, 4],\n",
              "       [2, 5]])"
            ]
          },
          "metadata": {
            "tags": []
          },
          "execution_count": 31
        }
      ]
    },
    {
      "cell_type": "code",
      "metadata": {
        "id": "H4TggXxAQ3rG",
        "colab_type": "code",
        "outputId": "fdb2130a-a779-4893-9a93-3e67318b0426",
        "colab": {
          "base_uri": "https://localhost:8080/",
          "height": 54
        }
      },
      "source": [
        "m = np.array([[0, 1], [2, 3]]) # m@v 行列ベクトル積 \n",
        "v = np.array([0, 1]) \n",
        "(m @ v, np.dot(m,v), v @ m, np.dot(v,m))"
      ],
      "execution_count": 0,
      "outputs": [
        {
          "output_type": "execute_result",
          "data": {
            "text/plain": [
              "(array([1, 3]), array([1, 3]), array([2, 3]), array([2, 3]))"
            ]
          },
          "metadata": {
            "tags": []
          },
          "execution_count": 32
        }
      ]
    },
    {
      "cell_type": "code",
      "metadata": {
        "id": "og6gNWv0Q3rI",
        "colab_type": "code",
        "outputId": "7e88acda-f404-427f-962d-2270172a8dd7",
        "colab": {
          "base_uri": "https://localhost:8080/",
          "height": 72
        }
      },
      "source": [
        "v = np.array([[0,1]]) # v@m  ベクトル行列積 = [2, 3]  ２入力(1,2)@入力重み(2,2)(2ノード)\n",
        "m = np.array([[0, 1], [2, 3]])\n",
        "(v @ m, v, m, v.shape, m.shape)"
      ],
      "execution_count": 0,
      "outputs": [
        {
          "output_type": "execute_result",
          "data": {
            "text/plain": [
              "(array([[2, 3]]), array([[0, 1]]), array([[0, 1],\n",
              "        [2, 3]]), (1, 2), (2, 2))"
            ]
          },
          "metadata": {
            "tags": []
          },
          "execution_count": 33
        }
      ]
    },
    {
      "cell_type": "code",
      "metadata": {
        "id": "mjZVGSMyQ3rK",
        "colab_type": "code",
        "outputId": "05e7b104-fa7f-4f77-d298-1f769299b1d9",
        "colab": {
          "base_uri": "https://localhost:8080/",
          "height": 72
        }
      },
      "source": [
        "a = np.array([[0, 1], [2, 3]]) # 行列積、matrix product、array([[ 2,  3],[ 6, 11]])　　\n",
        "a @ a"
      ],
      "execution_count": 0,
      "outputs": [
        {
          "output_type": "execute_result",
          "data": {
            "text/plain": [
              "array([[ 2,  3],\n",
              "       [ 6, 11]])"
            ]
          },
          "metadata": {
            "tags": []
          },
          "execution_count": 34
        }
      ]
    },
    {
      "cell_type": "code",
      "metadata": {
        "id": "Ae8e-afrQ3rL",
        "colab_type": "code",
        "outputId": "367d2610-b272-4746-d95c-9c1642f14dd8",
        "colab": {
          "base_uri": "https://localhost:8080/",
          "height": 54
        }
      },
      "source": [
        "v = np.array([2]) # ??\n",
        "vr = np.array([[1, 2]])\n",
        "v @ vr"
      ],
      "execution_count": 0,
      "outputs": [
        {
          "output_type": "execute_result",
          "data": {
            "text/plain": [
              "array([2, 4])"
            ]
          },
          "metadata": {
            "tags": []
          },
          "execution_count": 35
        }
      ]
    },
    {
      "cell_type": "code",
      "metadata": {
        "id": "DtprqmYiQ3rM",
        "colab_type": "code",
        "outputId": "5381e180-89ab-4375-fee0-d59408077c74",
        "colab": {
          "base_uri": "https://localhost:8080/",
          "height": 125
        }
      },
      "source": [
        "m1 = np.array([[1, 0], [0, 2]]) # 逆行列　　m1@m2 = I\n",
        "m2 = np.array([[1, 0], [0, 0.5]]) # = https://ja.wikipedia.org/wiki/正則行列\n",
        "(np.linalg.inv(m1), np.linalg.inv(m2), m1*m2, m2*m1)"
      ],
      "execution_count": 0,
      "outputs": [
        {
          "output_type": "execute_result",
          "data": {
            "text/plain": [
              "(array([[1. , 0. ],\n",
              "        [0. , 0.5]]), array([[1., 0.],\n",
              "        [0., 2.]]), array([[1., 0.],\n",
              "        [0., 1.]]), array([[1., 0.],\n",
              "        [0., 1.]]))"
            ]
          },
          "metadata": {
            "tags": []
          },
          "execution_count": 36
        }
      ]
    },
    {
      "cell_type": "code",
      "metadata": {
        "id": "BZvNravHQ3rN",
        "colab_type": "code",
        "colab": {}
      },
      "source": [
        "from scipy import linalg # 固有値　eigenvalue\n",
        "# linalg.eigvals()\n",
        "# Ax = λx を満たす零でないベクトル x とスカラー λ が存在するとき、x を A の固有ベクトル（右固有ベクトル）、λ を A の固有値と呼ぶ\n",
        "# https://www.programcreek.com/python/example/62154/numpy.linalg.eigvals"
      ],
      "execution_count": 0,
      "outputs": []
    },
    {
      "cell_type": "markdown",
      "metadata": {
        "id": "4_CUZFmXQ3rP",
        "colab_type": "text"
      },
      "source": [
        "### リスト操作"
      ]
    },
    {
      "cell_type": "code",
      "metadata": {
        "id": "4htFA0t-Q3rP",
        "colab_type": "code",
        "outputId": "b1f70fda-9923-46f8-9c43-9e058bfb262b",
        "colab": {
          "base_uri": "https://localhost:8080/",
          "height": 54
        }
      },
      "source": [
        "[7] * 3 # 繰り返し"
      ],
      "execution_count": 0,
      "outputs": [
        {
          "output_type": "execute_result",
          "data": {
            "text/plain": [
              "[7, 7, 7]"
            ]
          },
          "metadata": {
            "tags": []
          },
          "execution_count": 38
        }
      ]
    },
    {
      "cell_type": "code",
      "metadata": {
        "id": "UEkWV3XZQ3rR",
        "colab_type": "code",
        "outputId": "97d79e53-5bb4-47c1-df1a-4329b5fa976d",
        "colab": {
          "base_uri": "https://localhost:8080/",
          "height": 54
        }
      },
      "source": [
        "[0, 1, 2][0] # 最初の要素"
      ],
      "execution_count": 0,
      "outputs": [
        {
          "output_type": "execute_result",
          "data": {
            "text/plain": [
              "0"
            ]
          },
          "metadata": {
            "tags": []
          },
          "execution_count": 39
        }
      ]
    },
    {
      "cell_type": "code",
      "metadata": {
        "id": "NtpGQi-pQ3rS",
        "colab_type": "code",
        "outputId": "17748363-3819-4689-cfa5-ed7d853161b3",
        "colab": {
          "base_uri": "https://localhost:8080/",
          "height": 54
        }
      },
      "source": [
        "[0, 1, 2][-1] # 最後の要素"
      ],
      "execution_count": 0,
      "outputs": [
        {
          "output_type": "execute_result",
          "data": {
            "text/plain": [
              "2"
            ]
          },
          "metadata": {
            "tags": []
          },
          "execution_count": 40
        }
      ]
    },
    {
      "cell_type": "code",
      "metadata": {
        "id": "NduulcA8Q3rT",
        "colab_type": "code",
        "outputId": "d481db34-b674-4202-d1b9-049666ddb3de",
        "colab": {
          "base_uri": "https://localhost:8080/",
          "height": 54
        }
      },
      "source": [
        "[0, 1, 2][-2] # 最後から２番目の要素"
      ],
      "execution_count": 0,
      "outputs": [
        {
          "output_type": "execute_result",
          "data": {
            "text/plain": [
              "1"
            ]
          },
          "metadata": {
            "tags": []
          },
          "execution_count": 41
        }
      ]
    },
    {
      "cell_type": "code",
      "metadata": {
        "id": "JILLL8DBQ3rU",
        "colab_type": "code",
        "outputId": "3a0a6626-e4fd-4abb-f3e6-c3d952ca8cd7",
        "colab": {
          "base_uri": "https://localhost:8080/",
          "height": 54
        }
      },
      "source": [
        "len([0, 1, 2]) # 要素数"
      ],
      "execution_count": 0,
      "outputs": [
        {
          "output_type": "execute_result",
          "data": {
            "text/plain": [
              "3"
            ]
          },
          "metadata": {
            "tags": []
          },
          "execution_count": 42
        }
      ]
    },
    {
      "cell_type": "code",
      "metadata": {
        "id": "Fw6DpYMIQ3rV",
        "colab_type": "code",
        "outputId": "99e2d1ae-7e23-41dd-9e88-4fff83bc00fe",
        "colab": {
          "base_uri": "https://localhost:8080/",
          "height": 54
        }
      },
      "source": [
        "a = [0, 1] + [2, 3] # 結合\n",
        "b = [[0], [1], [2]] + [[0]]*3\n",
        "(a, b)"
      ],
      "execution_count": 0,
      "outputs": [
        {
          "output_type": "execute_result",
          "data": {
            "text/plain": [
              "([0, 1, 2, 3], [[0], [1], [2], [0], [0], [0]])"
            ]
          },
          "metadata": {
            "tags": []
          },
          "execution_count": 43
        }
      ]
    },
    {
      "cell_type": "code",
      "metadata": {
        "id": "iGJj5VWAQ3rW",
        "colab_type": "code",
        "outputId": "e468147a-bea9-41f2-9f93-cdc3a389d6b9",
        "colab": {
          "base_uri": "https://localhost:8080/",
          "height": 54
        }
      },
      "source": [
        "list(zip([0, 1] ,[2, 3])) # zip"
      ],
      "execution_count": 0,
      "outputs": [
        {
          "output_type": "execute_result",
          "data": {
            "text/plain": [
              "[(0, 2), (1, 3)]"
            ]
          },
          "metadata": {
            "tags": []
          },
          "execution_count": 44
        }
      ]
    },
    {
      "cell_type": "code",
      "metadata": {
        "id": "Z-S6x6_QQ3rX",
        "colab_type": "code",
        "outputId": "e029719b-51ed-49f7-9bd7-ba9a4b5df1ec",
        "colab": {
          "base_uri": "https://localhost:8080/",
          "height": 54
        }
      },
      "source": [
        "[x + y for (x, y) in zip([0, 1] ,[2, 3])] # 要素毎の加算"
      ],
      "execution_count": 0,
      "outputs": [
        {
          "output_type": "execute_result",
          "data": {
            "text/plain": [
              "[2, 4]"
            ]
          },
          "metadata": {
            "tags": []
          },
          "execution_count": 45
        }
      ]
    },
    {
      "cell_type": "code",
      "metadata": {
        "id": "hRBEhUDUQ3rY",
        "colab_type": "code",
        "outputId": "ba98b714-8a05-4146-ccbe-f3d13e19f39a",
        "colab": {
          "base_uri": "https://localhost:8080/",
          "height": 54
        }
      },
      "source": [
        "v = [0.5, 0.51] # map \n",
        "list(map(lambda x:round(x), v))"
      ],
      "execution_count": 0,
      "outputs": [
        {
          "output_type": "execute_result",
          "data": {
            "text/plain": [
              "[0, 1]"
            ]
          },
          "metadata": {
            "tags": []
          },
          "execution_count": 46
        }
      ]
    },
    {
      "cell_type": "markdown",
      "metadata": {
        "id": "YcPCXfOiQ3ra",
        "colab_type": "text"
      },
      "source": [
        "### リスト　スライス"
      ]
    },
    {
      "cell_type": "code",
      "metadata": {
        "id": "ahApncYxQ3rb",
        "colab_type": "code",
        "outputId": "affdf3d0-27d0-418f-cc5d-930bbcd6d009",
        "colab": {
          "base_uri": "https://localhost:8080/",
          "height": 54
        }
      },
      "source": [
        "a = [1, 2, 3, 4, 5, 6, 7, 8, 9] # 分割\n",
        "(a[:3], a[3:])"
      ],
      "execution_count": 0,
      "outputs": [
        {
          "output_type": "execute_result",
          "data": {
            "text/plain": [
              "([1, 2, 3], [4, 5, 6, 7, 8, 9])"
            ]
          },
          "metadata": {
            "tags": []
          },
          "execution_count": 47
        }
      ]
    },
    {
      "cell_type": "code",
      "metadata": {
        "id": "Yw4HaxQfQ3rc",
        "colab_type": "code",
        "outputId": "1ed6d8ae-bae2-4483-b69e-ee13a51f854d",
        "colab": {
          "base_uri": "https://localhost:8080/",
          "height": 54
        }
      },
      "source": [
        "[1, 2, 3, 4, 5, 6, 7, 8, 9][1:] # 最初の要素以外"
      ],
      "execution_count": 0,
      "outputs": [
        {
          "output_type": "execute_result",
          "data": {
            "text/plain": [
              "[2, 3, 4, 5, 6, 7, 8, 9]"
            ]
          },
          "metadata": {
            "tags": []
          },
          "execution_count": 48
        }
      ]
    },
    {
      "cell_type": "code",
      "metadata": {
        "id": "99D4FODZQ3rc",
        "colab_type": "code",
        "outputId": "7b98afc6-2083-4359-8bc2-8db01024ef79",
        "colab": {
          "base_uri": "https://localhost:8080/",
          "height": 54
        }
      },
      "source": [
        "[1, 2, 3, 4, 5, 6, 7, 8, 9][:-1] # 最後の要素以外"
      ],
      "execution_count": 0,
      "outputs": [
        {
          "output_type": "execute_result",
          "data": {
            "text/plain": [
              "[1, 2, 3, 4, 5, 6, 7, 8]"
            ]
          },
          "metadata": {
            "tags": []
          },
          "execution_count": 49
        }
      ]
    },
    {
      "cell_type": "code",
      "metadata": {
        "id": "Em-KdTbaQ3rd",
        "colab_type": "code",
        "outputId": "ebbac17e-d8ff-4462-8483-87fb21d84833",
        "colab": {
          "base_uri": "https://localhost:8080/",
          "height": 54
        }
      },
      "source": [
        "[1, 2, 3, 4, 5, 6, 7, 8, 9][-3:] # 後ろの部分"
      ],
      "execution_count": 0,
      "outputs": [
        {
          "output_type": "execute_result",
          "data": {
            "text/plain": [
              "[7, 8, 9]"
            ]
          },
          "metadata": {
            "tags": []
          },
          "execution_count": 50
        }
      ]
    },
    {
      "cell_type": "code",
      "metadata": {
        "id": "RwOBFRPsQ3re",
        "colab_type": "code",
        "outputId": "64e55f82-68eb-4e25-fa06-2ddb3a672db8",
        "colab": {
          "base_uri": "https://localhost:8080/",
          "height": 54
        }
      },
      "source": [
        "[1, 2, 3, 4, 5, 6, 7, 8, 9][:3] # 前の部分"
      ],
      "execution_count": 0,
      "outputs": [
        {
          "output_type": "execute_result",
          "data": {
            "text/plain": [
              "[1, 2, 3]"
            ]
          },
          "metadata": {
            "tags": []
          },
          "execution_count": 51
        }
      ]
    },
    {
      "cell_type": "code",
      "metadata": {
        "id": "j6ZITiJoQ3rf",
        "colab_type": "code",
        "outputId": "3c85c286-a7ca-4399-cd30-6a2672ebde07",
        "colab": {
          "base_uri": "https://localhost:8080/",
          "height": 54
        }
      },
      "source": [
        "[1, 2, 3, 4, 5, 6, 7, 8, 9][1:7] # 途中の部分"
      ],
      "execution_count": 0,
      "outputs": [
        {
          "output_type": "execute_result",
          "data": {
            "text/plain": [
              "[2, 3, 4, 5, 6, 7]"
            ]
          },
          "metadata": {
            "tags": []
          },
          "execution_count": 52
        }
      ]
    },
    {
      "cell_type": "code",
      "metadata": {
        "id": "yWxhH3RVQ3rf",
        "colab_type": "code",
        "outputId": "649e27f2-9a84-4cb1-a9bf-776deee90b88",
        "colab": {
          "base_uri": "https://localhost:8080/",
          "height": 54
        }
      },
      "source": [
        "[1, 2, 3, 4, 5, 6, 7, 8, 9][1:-1] # 途中の部分"
      ],
      "execution_count": 0,
      "outputs": [
        {
          "output_type": "execute_result",
          "data": {
            "text/plain": [
              "[2, 3, 4, 5, 6, 7, 8]"
            ]
          },
          "metadata": {
            "tags": []
          },
          "execution_count": 53
        }
      ]
    },
    {
      "cell_type": "code",
      "metadata": {
        "id": "QBvwdKJIQ3rh",
        "colab_type": "code",
        "outputId": "91ad28b5-b7b7-4dc0-d2e3-5832f578a21f",
        "colab": {
          "base_uri": "https://localhost:8080/",
          "height": 54
        }
      },
      "source": [
        "[1, 2, 3, 4, 5, 6, 7, 8, 9][1:7:2] # 2つ置き"
      ],
      "execution_count": 0,
      "outputs": [
        {
          "output_type": "execute_result",
          "data": {
            "text/plain": [
              "[2, 4, 6]"
            ]
          },
          "metadata": {
            "tags": []
          },
          "execution_count": 54
        }
      ]
    },
    {
      "cell_type": "code",
      "metadata": {
        "id": "mJDL74p_Q3ri",
        "colab_type": "code",
        "outputId": "724fb222-28c8-4ce4-a9c0-aa46447f0fca",
        "colab": {
          "base_uri": "https://localhost:8080/",
          "height": 54
        }
      },
      "source": [
        "[1, 2, 3, 4, 5, 6, 7, 8, 9][::-1] # 逆順"
      ],
      "execution_count": 0,
      "outputs": [
        {
          "output_type": "execute_result",
          "data": {
            "text/plain": [
              "[9, 8, 7, 6, 5, 4, 3, 2, 1]"
            ]
          },
          "metadata": {
            "tags": []
          },
          "execution_count": 55
        }
      ]
    },
    {
      "cell_type": "markdown",
      "metadata": {
        "id": "R4KdPoeYQ3rw",
        "colab_type": "text"
      },
      "source": [
        "### OS"
      ]
    },
    {
      "cell_type": "code",
      "metadata": {
        "id": "lfvFJt0rQ3rw",
        "colab_type": "code",
        "outputId": "e33ba115-d718-4ed5-cd14-5838f8b8cb0b",
        "colab": {
          "base_uri": "https://localhost:8080/",
          "height": 54
        }
      },
      "source": [
        "import os # ディレクトリ、リスト、コピー\n",
        "import shutil\n",
        "os.getcwd()\n",
        "# os.listdir(outDir)\n",
        "# shutil.copy (fromFile, toFile) \n",
        "# os.makedirs(new_dir_path_recursive, exist_ok=True)    深い階層のディレクトリまで再帰的に作成"
      ],
      "execution_count": 0,
      "outputs": [
        {
          "output_type": "execute_result",
          "data": {
            "text/plain": [
              "'/content'"
            ]
          },
          "metadata": {
            "tags": []
          },
          "execution_count": 64
        }
      ]
    },
    {
      "cell_type": "code",
      "metadata": {
        "id": "UydjCEOjQ3rx",
        "colab_type": "code",
        "colab": {}
      },
      "source": [
        "# a = input('x y:') # プロンプト付きキー入力   12 34\n",
        "# b = a.split()\n",
        "# c = list(map(lambda x: int(x), b))\n",
        "# [a,b,c] #  ['12 34', ['12', '34'], [12, 34]]"
      ],
      "execution_count": 0,
      "outputs": []
    },
    {
      "cell_type": "code",
      "metadata": {
        "id": "gmkusUdbQ3r6",
        "colab_type": "code",
        "outputId": "23e778a0-8454-4bbf-865c-f0d67604ffad",
        "colab": {
          "base_uri": "https://localhost:8080/",
          "height": 72
        }
      },
      "source": [
        "import datetime # 現在時刻\n",
        "print(datetime.datetime.now())\n",
        "datetime.datetime.now()"
      ],
      "execution_count": 0,
      "outputs": [
        {
          "output_type": "stream",
          "text": [
            "2019-12-25 18:28:23.946902\n"
          ],
          "name": "stdout"
        },
        {
          "output_type": "execute_result",
          "data": {
            "text/plain": [
              "datetime.datetime(2019, 12, 25, 18, 28, 23, 948164)"
            ]
          },
          "metadata": {
            "tags": []
          },
          "execution_count": 66
        }
      ]
    },
    {
      "cell_type": "markdown",
      "metadata": {
        "id": "m0r_HY5mQ3r9",
        "colab_type": "text"
      },
      "source": [
        "### Python"
      ]
    },
    {
      "cell_type": "code",
      "metadata": {
        "id": "wkvhko5DQ3r-",
        "colab_type": "code",
        "outputId": "6d353fb2-047c-48dd-9b9f-89ec52a499e4",
        "colab": {
          "base_uri": "https://localhost:8080/",
          "height": 54
        }
      },
      "source": [
        "round(1.234, 2) # 少数丸め、桁数指定"
      ],
      "execution_count": 0,
      "outputs": [
        {
          "output_type": "execute_result",
          "data": {
            "text/plain": [
              "1.23"
            ]
          },
          "metadata": {
            "tags": []
          },
          "execution_count": 67
        }
      ]
    },
    {
      "cell_type": "code",
      "metadata": {
        "id": "INh0BButQ3r_",
        "colab_type": "code",
        "outputId": "14c32459-3147-4363-d1a5-254346b13f96",
        "colab": {
          "base_uri": "https://localhost:8080/",
          "height": 54
        }
      },
      "source": [
        "s = '1234' # ゼロパディング\n",
        "s.zfill(8)"
      ],
      "execution_count": 0,
      "outputs": [
        {
          "output_type": "execute_result",
          "data": {
            "text/plain": [
              "'00001234'"
            ]
          },
          "metadata": {
            "tags": []
          },
          "execution_count": 68
        }
      ]
    },
    {
      "cell_type": "code",
      "metadata": {
        "id": "x0higxJzQ3r_",
        "colab_type": "code",
        "outputId": "a8841447-f8cb-4d4b-9e78-4092be89c29f",
        "colab": {
          "base_uri": "https://localhost:8080/",
          "height": 54
        }
      },
      "source": [
        "((1,), (2))  # 1要素のタプル　(2)は２になりNG"
      ],
      "execution_count": 0,
      "outputs": [
        {
          "output_type": "execute_result",
          "data": {
            "text/plain": [
              "((1,), 2)"
            ]
          },
          "metadata": {
            "tags": []
          },
          "execution_count": 69
        }
      ]
    },
    {
      "cell_type": "code",
      "metadata": {
        "id": "3v7nbp4HQ3sA",
        "colab_type": "code",
        "outputId": "43193017-4ca7-4f08-da23-9132abed9040",
        "colab": {
          "base_uri": "https://localhost:8080/",
          "height": 54
        }
      },
      "source": [
        "x = -3 # if 3項演算子\n",
        "x if 0 < x  else 0"
      ],
      "execution_count": 0,
      "outputs": [
        {
          "output_type": "execute_result",
          "data": {
            "text/plain": [
              "0"
            ]
          },
          "metadata": {
            "tags": []
          },
          "execution_count": 70
        }
      ]
    },
    {
      "cell_type": "code",
      "metadata": {
        "scrolled": true,
        "id": "0XPF_ZxnQ3sB",
        "colab_type": "code",
        "outputId": "3a3ac40a-62af-4e64-a310-ba030c8b4e8a",
        "colab": {
          "base_uri": "https://localhost:8080/",
          "height": 107
        }
      },
      "source": [
        "for i, input in enumerate([5, 6]): # index付き繰り返し\n",
        "    print(i,input)\n",
        "for i, input in enumerate(np.arange(2)): # numpyでも使える\n",
        "    print(i,input)"
      ],
      "execution_count": 0,
      "outputs": [
        {
          "output_type": "stream",
          "text": [
            "0 5\n",
            "1 6\n",
            "0 0\n",
            "1 1\n"
          ],
          "name": "stdout"
        }
      ]
    },
    {
      "cell_type": "code",
      "metadata": {
        "id": "e90bmNOYQ3sB",
        "colab_type": "code",
        "colab": {}
      },
      "source": [
        "global Debug # グローバル変数"
      ],
      "execution_count": 0,
      "outputs": []
    },
    {
      "cell_type": "code",
      "metadata": {
        "id": "qFnsNfamQ3sC",
        "colab_type": "code",
        "outputId": "dce63f3b-1f11-4cd9-8b07-163c4373adeb",
        "colab": {
          "base_uri": "https://localhost:8080/",
          "height": 54
        }
      },
      "source": [
        "def f1(): # 局所関数定義\n",
        "    def f2(): return 1\n",
        "    return f2()\n",
        "f1()"
      ],
      "execution_count": 0,
      "outputs": [
        {
          "output_type": "execute_result",
          "data": {
            "text/plain": [
              "1"
            ]
          },
          "metadata": {
            "tags": []
          },
          "execution_count": 73
        }
      ]
    },
    {
      "cell_type": "code",
      "metadata": {
        "id": "weTJH8VDQ3sC",
        "colab_type": "code",
        "colab": {}
      },
      "source": [
        "# while True:   Repeat-until\n",
        "#     ...\n",
        "#      if cond: break\n"
      ],
      "execution_count": 0,
      "outputs": []
    },
    {
      "cell_type": "code",
      "metadata": {
        "id": "Wme4FJrkc_-F",
        "colab_type": "code",
        "outputId": "5e2c38cd-a44d-4aab-b166-05137c6dc0d8",
        "colab": {
          "base_uri": "https://localhost:8080/",
          "height": 228
        }
      },
      "source": [
        "!cat /etc/os-release"
      ],
      "execution_count": 0,
      "outputs": [
        {
          "output_type": "stream",
          "text": [
            "NAME=\"Ubuntu\"\n",
            "VERSION=\"18.04.3 LTS (Bionic Beaver)\"\n",
            "ID=ubuntu\n",
            "ID_LIKE=debian\n",
            "PRETTY_NAME=\"Ubuntu 18.04.3 LTS\"\n",
            "VERSION_ID=\"18.04\"\n",
            "HOME_URL=\"https://www.ubuntu.com/\"\n",
            "SUPPORT_URL=\"https://help.ubuntu.com/\"\n",
            "BUG_REPORT_URL=\"https://bugs.launchpad.net/ubuntu/\"\n",
            "PRIVACY_POLICY_URL=\"https://www.ubuntu.com/legal/terms-and-policies/privacy-policy\"\n",
            "VERSION_CODENAME=bionic\n",
            "UBUNTU_CODENAME=bionic\n"
          ],
          "name": "stdout"
        }
      ]
    },
    {
      "cell_type": "markdown",
      "metadata": {
        "id": "MgrOW-LWS9We",
        "colab_type": "text"
      },
      "source": [
        "Playground モード という編集不可なノートブック"
      ]
    },
    {
      "cell_type": "code",
      "metadata": {
        "id": "XIRxw68vRpY9",
        "colab_type": "code",
        "outputId": "bc19c512-cc8f-4704-dbe1-1942fe5f1c1d",
        "colab": {
          "resources": {
            "http://localhost:8080/nbextensions/google.colab/files.js": {
              "data": "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",
              "ok": true,
              "headers": [
                [
                  "content-type",
                  "application/javascript"
                ]
              ],
              "status": 200,
              "status_text": ""
            }
          },
          "base_uri": "https://localhost:8080/",
          "height": 46
        }
      },
      "source": [
        "from google.colab import files # Colaboratory File Upload\n",
        "uploaded = files.upload()"
      ],
      "execution_count": 0,
      "outputs": [
        {
          "output_type": "display_data",
          "data": {
            "text/html": [
              "\n",
              "     <input type=\"file\" id=\"files-126e1e7a-d293-4818-a38d-9ec367d97502\" name=\"files[]\" multiple disabled />\n",
              "     <output id=\"result-126e1e7a-d293-4818-a38d-9ec367d97502\">\n",
              "      Upload widget is only available when the cell has been executed in the\n",
              "      current browser session. Please rerun this cell to enable.\n",
              "      </output>\n",
              "      <script src=\"/nbextensions/google.colab/files.js\"></script> "
            ],
            "text/plain": [
              "<IPython.core.display.HTML object>"
            ]
          },
          "metadata": {
            "tags": []
          }
        }
      ]
    },
    {
      "cell_type": "markdown",
      "metadata": {
        "id": "5g0y-wTOQ3sD",
        "colab_type": "text"
      },
      "source": [
        "### その他"
      ]
    },
    {
      "cell_type": "code",
      "metadata": {
        "id": "fBLL0TaPQ3sD",
        "colab_type": "code",
        "outputId": "ac944928-e203-40e8-fd54-f5db3862f4d7",
        "colab": {
          "base_uri": "https://localhost:8080/",
          "height": 70
        }
      },
      "source": [
        "def f(loop_count): # 実行時間計測\n",
        "    sum = 0\n",
        "    for i in range(loop_count):\n",
        "        sum += i\n",
        "    print (\"sum\", sum)\n",
        "%time f(100000)"
      ],
      "execution_count": 0,
      "outputs": [
        {
          "output_type": "stream",
          "text": [
            "sum 4999950000\n",
            "CPU times: user 7.85 ms, sys: 170 µs, total: 8.02 ms\n",
            "Wall time: 9.42 ms\n"
          ],
          "name": "stdout"
        }
      ]
    },
    {
      "cell_type": "code",
      "metadata": {
        "id": "eGMst1YGQ3sD",
        "colab_type": "code",
        "outputId": "e28620f8-edc1-4f0a-f8ac-eccbb00b468d",
        "colab": {
          "base_uri": "https://localhost:8080/",
          "height": 34
        }
      },
      "source": [
        "v = np.array([0, 1]) # デバッグ出力\n",
        "print(v1,[v1],(v1,))  # 「array()」の有無が異なる"
      ],
      "execution_count": 0,
      "outputs": [
        {
          "output_type": "stream",
          "text": [
            "[1 0] [array([1, 0])] (array([1, 0]),)\n"
          ],
          "name": "stdout"
        }
      ]
    },
    {
      "cell_type": "markdown",
      "metadata": {
        "id": "Xarh8vcmQ3sE",
        "colab_type": "text"
      },
      "source": [
        "github https://github.com/"
      ]
    }
  ]
}